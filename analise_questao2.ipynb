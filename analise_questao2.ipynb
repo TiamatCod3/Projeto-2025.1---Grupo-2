{
 "cells": [
  {
   "cell_type": "code",
   "execution_count": 66,
   "id": "c2cca67a",
   "metadata": {},
   "outputs": [],
   "source": [
    "# %pip install flet plotly pandas\n"
   ]
  },
  {
   "cell_type": "code",
   "execution_count": 67,
   "id": "c5a4c7bf",
   "metadata": {},
   "outputs": [],
   "source": [
    "# import yfinance"
   ]
  },
  {
   "cell_type": "code",
   "execution_count": 68,
   "id": "4e92d784",
   "metadata": {},
   "outputs": [],
   "source": [
    "# import flet as ft\n",
    "# import sqlite3\n",
    "# import pandas as pd\n",
    "# import plotly.graph_objs as go\n",
    "\n",
    "# DB_PATH = \"Data/G2_Mercado.db\"\n",
    "\n",
    "# def carregar_acoes():\n",
    "#     conn = sqlite3.connect(DB_PATH)\n",
    "#     df = pd.read_sql_query(\"SELECT sigla FROM Acao ORDER BY sigla\", conn)\n",
    "#     conn.close()\n",
    "#     return df[\"sigla\"].tolist()\n",
    "\n",
    "# def carregar_dados(sigla, data_ini, data_fim):\n",
    "#     conn = sqlite3.connect(DB_PATH)\n",
    "#     query = \"\"\"\n",
    "#         SELECT data, abertura, fechamento, maxima, minima, volume\n",
    "#         FROM HistoricoAcao\n",
    "#         WHERE sigla = ? AND data BETWEEN ? AND ?\n",
    "#         ORDER BY data\n",
    "#     \"\"\"\n",
    "#     df = pd.read_sql_query(query, conn, params=(sigla, data_ini, data_fim))\n",
    "#     conn.close()\n",
    "#     df[\"data\"] = pd.to_datetime(df[\"data\"])\n",
    "#     return df\n",
    "\n",
    "# def main(page: ft.Page):\n",
    "#     page.title = \"Análise de Ações - Flet\"\n",
    "#     page.scroll = ft.ScrollMode.AUTO\n",
    "\n",
    "#     dropdown = ft.Dropdown(label=\"Selecione a ação\")\n",
    "#     date_ini = ft.TextField(label=\"Data Início (YYYY-MM-DD)\", width=150)\n",
    "#     date_fim = ft.TextField(label=\"Data Fim (YYYY-MM-DD)\", width=150)\n",
    "#     btn = ft.ElevatedButton(\"Gerar Gráficos\")\n",
    "\n",
    "#     aba_conteudo = ft.Tabs(expand=1, tabs=[])\n",
    "\n",
    "#     def gerar_graficos(e):\n",
    "#         aba_conteudo.tabs.clear()\n",
    "#         df = carregar_dados(dropdown.value, date_ini.value, date_fim.value)\n",
    "#         if df.empty:\n",
    "#             page.snack_bar = ft.SnackBar(ft.Text(\"Nenhum dado encontrado.\"))\n",
    "#             page.snack_bar.open = True\n",
    "#             page.update()\n",
    "#             return\n",
    "\n",
    "#         fig1 = go.Figure(data=[go.Scatter(x=df[\"data\"], y=df[\"fechamento\"], name=\"Fechamento\")])\n",
    "#         fig1.update_layout(title=\"Preço de Fechamento\")\n",
    "\n",
    "#         fig2 = go.Figure(data=[go.Bar(x=df[\"data\"], y=df[\"volume\"], name=\"Volume\")])\n",
    "#         fig2.update_layout(title=\"Volume Diário\")\n",
    "\n",
    "#         media = df[\"fechamento\"].rolling(7).mean()\n",
    "#         fig3 = go.Figure()\n",
    "#         fig3.add_trace(go.Scatter(x=df[\"data\"], y=df[\"fechamento\"], name=\"Fechamento\"))\n",
    "#         fig3.add_trace(go.Scatter(x=df[\"data\"], y=media, name=\"Média Móvel\"))\n",
    "#         fig3.update_layout(title=\"Média Móvel de Fechamento\")\n",
    "\n",
    "#         fig4 = go.Figure()\n",
    "#         fig4.add_trace(go.Scatter(x=df[\"data\"], y=df[\"maxima\"], name=\"Máxima\", line=dict(color=\"green\")))\n",
    "#         fig4.add_trace(go.Scatter(x=df[\"data\"], y=df[\"minima\"], name=\"Mínima\", line=dict(color=\"red\")))\n",
    "#         fig4.update_layout(title=\"Máxima e Mínima Diária\")\n",
    "\n",
    "#         aba_conteudo.tabs.extend([\n",
    "#             ft.Tab(text=\"Fechamento\", content=ft.PlotlyChart(fig1)),\n",
    "#             ft.Tab(text=\"Volume\", content=ft.PlotlyChart(fig2)),\n",
    "#             ft.Tab(text=\"Média Móvel\", content=ft.PlotlyChart(fig3)),\n",
    "#             ft.Tab(text=\"Máx/Mín\", content=ft.PlotlyChart(fig4))\n",
    "#         ])\n",
    "#         page.update()\n",
    "\n",
    "#     btn.on_click = gerar_graficos\n",
    "\n",
    "#     dropdown.options = [ft.dropdown.Option(sigla) for sigla in carregar_acoes()]\n",
    "#     page.add(ft.Row([dropdown, date_ini, date_fim, btn], alignment=\"center\"))\n",
    "#     page.add(aba_conteudo)\n",
    "\n",
    "# ft.app(target=main)\n"
   ]
  },
  {
   "cell_type": "code",
   "execution_count": 69,
   "id": "f5878adb",
   "metadata": {},
   "outputs": [],
   "source": [
    "# import yfinance as yf\n",
    "# dat = yf.Ticker(\"PETR4.SA\")"
   ]
  },
  {
   "cell_type": "code",
   "execution_count": 70,
   "id": "d3ff07df",
   "metadata": {},
   "outputs": [],
   "source": [
    "# dat.history(period='1mo')"
   ]
  },
  {
   "cell_type": "code",
   "execution_count": null,
   "id": "a0f9500a",
   "metadata": {},
   "outputs": [],
   "source": [
    "\n",
    "\n"
   ]
  },
  {
   "cell_type": "code",
   "execution_count": 82,
   "id": "7c985494",
   "metadata": {},
   "outputs": [
    {
     "name": "stdout",
     "output_type": "stream",
     "text": [
      "Carga concluída com sucesso.\n"
     ]
    }
   ],
   "source": [
    "import sqlite3\n",
    "import yfinance as yf\n",
    "from datetime import datetime, timedelta\n",
    "import os\n",
    "\n",
    "# Configurações de caminho\n",
    "DB_PATH = os.path.join(\"Data\", \"G2_Mercado.db\")\n",
    "ACOES_PATH = os.path.join(\"Data\", \"Acoes.txt\")\n",
    "NAO_CARREGADAS_PATH = os.path.join(\"Data\", \"NaoCarregadas.txt\")\n",
    "# Criar arquivo de ações (se não existir)\n",
    "if not os.path.exists(ACOES_PATH):\n",
    "    with open(ACOES_PATH, \"w\") as f:\n",
    "        f.write(\"\\n\".join([\n",
    "            \"PETR4.SA\", \"VALE3.SA\", \"ITUB4.SA\",\n",
    "            \"BBDC4.SA\", \"ABEV3.SA\", \"BBAS3.SA\"\n",
    "        ]))\n",
    "# Conectar ao banco\n",
    "conn = sqlite3.connect(DB_PATH)\n",
    "cursor = conn.cursor()\n",
    "# Ativar foreign keys\n",
    "cursor.execute(\"PRAGMA foreign_keys = ON\")\n",
    "# Criar tabelas\n",
    "cursor.execute('''\n",
    "CREATE TABLE IF NOT EXISTS Acao (\n",
    "    id INTEGER PRIMARY KEY AUTOINCREMENT,\n",
    "    sigla TEXT UNIQUE,\n",
    "    nome TEXT\n",
    ")\n",
    "''')\n",
    "cursor.execute('''\n",
    "CREATE TABLE IF NOT EXISTS HistoricoAcao (\n",
    "    id INTEGER PRIMARY KEY AUTOINCREMENT,\n",
    "    data DATE,\n",
    "    abertura REAL,\n",
    "    fechamento REAL,\n",
    "    maxima REAL,\n",
    "    minima REAL,\n",
    "    volume INTEGER,\n",
    "    acao_id INTEGER,\n",
    "    FOREIGN KEY (acao_id) REFERENCES Acao(id) ON DELETE CASCADE\n",
    ")\n",
    "''')\n",
    "# Limpar dados antigos\n",
    "cursor.execute(\"DELETE FROM HistoricoAcao\")\n",
    "cursor.execute(\"DELETE FROM Acao\")\n",
    "conn.commit()\n",
    "# Ler ações\n",
    "with open(ACOES_PATH, \"r\") as f:\n",
    "    acoes = [linha.strip() for linha in f if linha.strip()]\n",
    "# Datas\n",
    "inicio = datetime.now().date() - timedelta(days=360)\n",
    "fim = datetime.now().date()\n",
    "nao_carregadas = []\n",
    "# Coleta de dados\n",
    "for sigla in acoes:\n",
    "    try:\n",
    "        ticker = yf.Ticker(sigla)\n",
    "        nome = ticker.info.get(\"longName\", \"Desconhecido\")\n",
    "        cursor.execute(\"INSERT INTO Acao (sigla, nome) VALUES (?, ?)\", (sigla, nome))\n",
    "        acao_id = cursor.lastrowid\n",
    "\n",
    "        df = ticker.history(start=inicio.isoformat(), end=fim.isoformat())\n",
    "        for data, row in df.iterrows():\n",
    "            cursor.execute(\"\"\"\n",
    "                INSERT INTO HistoricoAcao\n",
    "                (data, abertura, fechamento, maxima, minima, volume, acao_id)\n",
    "                VALUES (?, ?, ?, ?, ?, ?, ?)\n",
    "            \"\"\", (\n",
    "                data.date().isoformat(),\n",
    "                row[\"Open\"],\n",
    "                row[\"Close\"],\n",
    "                row[\"High\"],\n",
    "                row[\"Low\"],\n",
    "                int(row[\"Volume\"]),\n",
    "                acao_id\n",
    "            ))\n",
    "        conn.commit()\n",
    "\n",
    "    except Exception:\n",
    "        nao_carregadas.append(sigla)\n",
    "        conn.rollback()\n",
    "\n",
    "# Registrar ações não carregadas\n",
    "with open(NAO_CARREGADAS_PATH, \"w\") as f:\n",
    "    f.write(\"\\n\".join(nao_carregadas))\n",
    "\n",
    "conn.close()\n",
    "print(\"Carga concluída com sucesso.\")"
   ]
  },
  {
   "cell_type": "code",
   "execution_count": 1,
   "id": "225fcefe",
   "metadata": {},
   "outputs": [
    {
     "data": {
      "application/vnd.plotly.v1+json": {
       "config": {
        "plotlyServerURL": "https://plot.ly"
       },
       "data": [
        {
         "boxpoints": "all",
         "jitter": 0.3,
         "line": {
          "color": "rgb(7,40,89)"
         },
         "marker": {
          "color": "rgb(7,40,89)"
         },
         "name": "All Points",
         "pointpos": -1.8,
         "type": "box",
         "y": [
          0.75,
          5.25,
          5.5,
          6,
          6.2,
          6.6,
          6.8,
          7,
          7.2,
          7.5,
          7.5,
          7.75,
          8.15,
          8.15,
          8.65,
          8.93,
          9.2,
          9.5,
          10,
          10.25,
          11.5,
          12,
          16,
          20.9,
          22.3,
          23.25
         ]
        },
        {
         "boxpoints": false,
         "line": {
          "color": "rgb(9,56,125)"
         },
         "marker": {
          "color": "rgb(9,56,125)"
         },
         "name": "Only Whiskers",
         "type": "box",
         "y": [
          0.75,
          5.25,
          5.5,
          6,
          6.2,
          6.6,
          6.8,
          7,
          7.2,
          7.5,
          7.5,
          7.75,
          8.15,
          8.15,
          8.65,
          8.93,
          9.2,
          9.5,
          10,
          10.25,
          11.5,
          12,
          16,
          20.9,
          22.3,
          23.25
         ]
        },
        {
         "boxpoints": "suspectedoutliers",
         "line": {
          "color": "rgb(8,81,156)"
         },
         "marker": {
          "color": "rgb(8,81,156)",
          "line": {
           "outliercolor": "rgba(219, 64, 82, 0.6)",
           "outlierwidth": 2
          },
          "outliercolor": "rgba(219, 64, 82, 0.6)"
         },
         "name": "Suspected Outliers",
         "type": "box",
         "y": [
          0.75,
          5.25,
          5.5,
          6,
          6.2,
          6.6,
          6.8,
          7,
          7.2,
          7.5,
          7.5,
          7.75,
          8.15,
          8.15,
          8.65,
          8.93,
          9.2,
          9.5,
          10,
          10.25,
          11.5,
          12,
          16,
          20.9,
          22.3,
          23.25
         ]
        },
        {
         "boxpoints": "outliers",
         "line": {
          "color": "rgb(107,174,214)"
         },
         "marker": {
          "color": "rgb(107,174,214)"
         },
         "name": "Whiskers and Outliers",
         "type": "box",
         "y": [
          0.75,
          5.25,
          5.5,
          6,
          6.2,
          6.6,
          6.8,
          7,
          7.2,
          7.5,
          7.5,
          7.75,
          8.15,
          8.15,
          8.65,
          8.93,
          9.2,
          9.5,
          10,
          10.25,
          11.5,
          12,
          16,
          20.9,
          22.3,
          23.25
         ]
        }
       ],
       "layout": {
        "template": {
         "data": {
          "bar": [
           {
            "error_x": {
             "color": "#2a3f5f"
            },
            "error_y": {
             "color": "#2a3f5f"
            },
            "marker": {
             "line": {
              "color": "#E5ECF6",
              "width": 0.5
             },
             "pattern": {
              "fillmode": "overlay",
              "size": 10,
              "solidity": 0.2
             }
            },
            "type": "bar"
           }
          ],
          "barpolar": [
           {
            "marker": {
             "line": {
              "color": "#E5ECF6",
              "width": 0.5
             },
             "pattern": {
              "fillmode": "overlay",
              "size": 10,
              "solidity": 0.2
             }
            },
            "type": "barpolar"
           }
          ],
          "carpet": [
           {
            "aaxis": {
             "endlinecolor": "#2a3f5f",
             "gridcolor": "white",
             "linecolor": "white",
             "minorgridcolor": "white",
             "startlinecolor": "#2a3f5f"
            },
            "baxis": {
             "endlinecolor": "#2a3f5f",
             "gridcolor": "white",
             "linecolor": "white",
             "minorgridcolor": "white",
             "startlinecolor": "#2a3f5f"
            },
            "type": "carpet"
           }
          ],
          "choropleth": [
           {
            "colorbar": {
             "outlinewidth": 0,
             "ticks": ""
            },
            "type": "choropleth"
           }
          ],
          "contour": [
           {
            "colorbar": {
             "outlinewidth": 0,
             "ticks": ""
            },
            "colorscale": [
             [
              0,
              "#0d0887"
             ],
             [
              0.1111111111111111,
              "#46039f"
             ],
             [
              0.2222222222222222,
              "#7201a8"
             ],
             [
              0.3333333333333333,
              "#9c179e"
             ],
             [
              0.4444444444444444,
              "#bd3786"
             ],
             [
              0.5555555555555556,
              "#d8576b"
             ],
             [
              0.6666666666666666,
              "#ed7953"
             ],
             [
              0.7777777777777778,
              "#fb9f3a"
             ],
             [
              0.8888888888888888,
              "#fdca26"
             ],
             [
              1,
              "#f0f921"
             ]
            ],
            "type": "contour"
           }
          ],
          "contourcarpet": [
           {
            "colorbar": {
             "outlinewidth": 0,
             "ticks": ""
            },
            "type": "contourcarpet"
           }
          ],
          "heatmap": [
           {
            "colorbar": {
             "outlinewidth": 0,
             "ticks": ""
            },
            "colorscale": [
             [
              0,
              "#0d0887"
             ],
             [
              0.1111111111111111,
              "#46039f"
             ],
             [
              0.2222222222222222,
              "#7201a8"
             ],
             [
              0.3333333333333333,
              "#9c179e"
             ],
             [
              0.4444444444444444,
              "#bd3786"
             ],
             [
              0.5555555555555556,
              "#d8576b"
             ],
             [
              0.6666666666666666,
              "#ed7953"
             ],
             [
              0.7777777777777778,
              "#fb9f3a"
             ],
             [
              0.8888888888888888,
              "#fdca26"
             ],
             [
              1,
              "#f0f921"
             ]
            ],
            "type": "heatmap"
           }
          ],
          "histogram": [
           {
            "marker": {
             "pattern": {
              "fillmode": "overlay",
              "size": 10,
              "solidity": 0.2
             }
            },
            "type": "histogram"
           }
          ],
          "histogram2d": [
           {
            "colorbar": {
             "outlinewidth": 0,
             "ticks": ""
            },
            "colorscale": [
             [
              0,
              "#0d0887"
             ],
             [
              0.1111111111111111,
              "#46039f"
             ],
             [
              0.2222222222222222,
              "#7201a8"
             ],
             [
              0.3333333333333333,
              "#9c179e"
             ],
             [
              0.4444444444444444,
              "#bd3786"
             ],
             [
              0.5555555555555556,
              "#d8576b"
             ],
             [
              0.6666666666666666,
              "#ed7953"
             ],
             [
              0.7777777777777778,
              "#fb9f3a"
             ],
             [
              0.8888888888888888,
              "#fdca26"
             ],
             [
              1,
              "#f0f921"
             ]
            ],
            "type": "histogram2d"
           }
          ],
          "histogram2dcontour": [
           {
            "colorbar": {
             "outlinewidth": 0,
             "ticks": ""
            },
            "colorscale": [
             [
              0,
              "#0d0887"
             ],
             [
              0.1111111111111111,
              "#46039f"
             ],
             [
              0.2222222222222222,
              "#7201a8"
             ],
             [
              0.3333333333333333,
              "#9c179e"
             ],
             [
              0.4444444444444444,
              "#bd3786"
             ],
             [
              0.5555555555555556,
              "#d8576b"
             ],
             [
              0.6666666666666666,
              "#ed7953"
             ],
             [
              0.7777777777777778,
              "#fb9f3a"
             ],
             [
              0.8888888888888888,
              "#fdca26"
             ],
             [
              1,
              "#f0f921"
             ]
            ],
            "type": "histogram2dcontour"
           }
          ],
          "mesh3d": [
           {
            "colorbar": {
             "outlinewidth": 0,
             "ticks": ""
            },
            "type": "mesh3d"
           }
          ],
          "parcoords": [
           {
            "line": {
             "colorbar": {
              "outlinewidth": 0,
              "ticks": ""
             }
            },
            "type": "parcoords"
           }
          ],
          "pie": [
           {
            "automargin": true,
            "type": "pie"
           }
          ],
          "scatter": [
           {
            "fillpattern": {
             "fillmode": "overlay",
             "size": 10,
             "solidity": 0.2
            },
            "type": "scatter"
           }
          ],
          "scatter3d": [
           {
            "line": {
             "colorbar": {
              "outlinewidth": 0,
              "ticks": ""
             }
            },
            "marker": {
             "colorbar": {
              "outlinewidth": 0,
              "ticks": ""
             }
            },
            "type": "scatter3d"
           }
          ],
          "scattercarpet": [
           {
            "marker": {
             "colorbar": {
              "outlinewidth": 0,
              "ticks": ""
             }
            },
            "type": "scattercarpet"
           }
          ],
          "scattergeo": [
           {
            "marker": {
             "colorbar": {
              "outlinewidth": 0,
              "ticks": ""
             }
            },
            "type": "scattergeo"
           }
          ],
          "scattergl": [
           {
            "marker": {
             "colorbar": {
              "outlinewidth": 0,
              "ticks": ""
             }
            },
            "type": "scattergl"
           }
          ],
          "scattermap": [
           {
            "marker": {
             "colorbar": {
              "outlinewidth": 0,
              "ticks": ""
             }
            },
            "type": "scattermap"
           }
          ],
          "scattermapbox": [
           {
            "marker": {
             "colorbar": {
              "outlinewidth": 0,
              "ticks": ""
             }
            },
            "type": "scattermapbox"
           }
          ],
          "scatterpolar": [
           {
            "marker": {
             "colorbar": {
              "outlinewidth": 0,
              "ticks": ""
             }
            },
            "type": "scatterpolar"
           }
          ],
          "scatterpolargl": [
           {
            "marker": {
             "colorbar": {
              "outlinewidth": 0,
              "ticks": ""
             }
            },
            "type": "scatterpolargl"
           }
          ],
          "scatterternary": [
           {
            "marker": {
             "colorbar": {
              "outlinewidth": 0,
              "ticks": ""
             }
            },
            "type": "scatterternary"
           }
          ],
          "surface": [
           {
            "colorbar": {
             "outlinewidth": 0,
             "ticks": ""
            },
            "colorscale": [
             [
              0,
              "#0d0887"
             ],
             [
              0.1111111111111111,
              "#46039f"
             ],
             [
              0.2222222222222222,
              "#7201a8"
             ],
             [
              0.3333333333333333,
              "#9c179e"
             ],
             [
              0.4444444444444444,
              "#bd3786"
             ],
             [
              0.5555555555555556,
              "#d8576b"
             ],
             [
              0.6666666666666666,
              "#ed7953"
             ],
             [
              0.7777777777777778,
              "#fb9f3a"
             ],
             [
              0.8888888888888888,
              "#fdca26"
             ],
             [
              1,
              "#f0f921"
             ]
            ],
            "type": "surface"
           }
          ],
          "table": [
           {
            "cells": {
             "fill": {
              "color": "#EBF0F8"
             },
             "line": {
              "color": "white"
             }
            },
            "header": {
             "fill": {
              "color": "#C8D4E3"
             },
             "line": {
              "color": "white"
             }
            },
            "type": "table"
           }
          ]
         },
         "layout": {
          "annotationdefaults": {
           "arrowcolor": "#2a3f5f",
           "arrowhead": 0,
           "arrowwidth": 1
          },
          "autotypenumbers": "strict",
          "coloraxis": {
           "colorbar": {
            "outlinewidth": 0,
            "ticks": ""
           }
          },
          "colorscale": {
           "diverging": [
            [
             0,
             "#8e0152"
            ],
            [
             0.1,
             "#c51b7d"
            ],
            [
             0.2,
             "#de77ae"
            ],
            [
             0.3,
             "#f1b6da"
            ],
            [
             0.4,
             "#fde0ef"
            ],
            [
             0.5,
             "#f7f7f7"
            ],
            [
             0.6,
             "#e6f5d0"
            ],
            [
             0.7,
             "#b8e186"
            ],
            [
             0.8,
             "#7fbc41"
            ],
            [
             0.9,
             "#4d9221"
            ],
            [
             1,
             "#276419"
            ]
           ],
           "sequential": [
            [
             0,
             "#0d0887"
            ],
            [
             0.1111111111111111,
             "#46039f"
            ],
            [
             0.2222222222222222,
             "#7201a8"
            ],
            [
             0.3333333333333333,
             "#9c179e"
            ],
            [
             0.4444444444444444,
             "#bd3786"
            ],
            [
             0.5555555555555556,
             "#d8576b"
            ],
            [
             0.6666666666666666,
             "#ed7953"
            ],
            [
             0.7777777777777778,
             "#fb9f3a"
            ],
            [
             0.8888888888888888,
             "#fdca26"
            ],
            [
             1,
             "#f0f921"
            ]
           ],
           "sequentialminus": [
            [
             0,
             "#0d0887"
            ],
            [
             0.1111111111111111,
             "#46039f"
            ],
            [
             0.2222222222222222,
             "#7201a8"
            ],
            [
             0.3333333333333333,
             "#9c179e"
            ],
            [
             0.4444444444444444,
             "#bd3786"
            ],
            [
             0.5555555555555556,
             "#d8576b"
            ],
            [
             0.6666666666666666,
             "#ed7953"
            ],
            [
             0.7777777777777778,
             "#fb9f3a"
            ],
            [
             0.8888888888888888,
             "#fdca26"
            ],
            [
             1,
             "#f0f921"
            ]
           ]
          },
          "colorway": [
           "#636efa",
           "#EF553B",
           "#00cc96",
           "#ab63fa",
           "#FFA15A",
           "#19d3f3",
           "#FF6692",
           "#B6E880",
           "#FF97FF",
           "#FECB52"
          ],
          "font": {
           "color": "#2a3f5f"
          },
          "geo": {
           "bgcolor": "white",
           "lakecolor": "white",
           "landcolor": "#E5ECF6",
           "showlakes": true,
           "showland": true,
           "subunitcolor": "white"
          },
          "hoverlabel": {
           "align": "left"
          },
          "hovermode": "closest",
          "mapbox": {
           "style": "light"
          },
          "paper_bgcolor": "white",
          "plot_bgcolor": "#E5ECF6",
          "polar": {
           "angularaxis": {
            "gridcolor": "white",
            "linecolor": "white",
            "ticks": ""
           },
           "bgcolor": "#E5ECF6",
           "radialaxis": {
            "gridcolor": "white",
            "linecolor": "white",
            "ticks": ""
           }
          },
          "scene": {
           "xaxis": {
            "backgroundcolor": "#E5ECF6",
            "gridcolor": "white",
            "gridwidth": 2,
            "linecolor": "white",
            "showbackground": true,
            "ticks": "",
            "zerolinecolor": "white"
           },
           "yaxis": {
            "backgroundcolor": "#E5ECF6",
            "gridcolor": "white",
            "gridwidth": 2,
            "linecolor": "white",
            "showbackground": true,
            "ticks": "",
            "zerolinecolor": "white"
           },
           "zaxis": {
            "backgroundcolor": "#E5ECF6",
            "gridcolor": "white",
            "gridwidth": 2,
            "linecolor": "white",
            "showbackground": true,
            "ticks": "",
            "zerolinecolor": "white"
           }
          },
          "shapedefaults": {
           "line": {
            "color": "#2a3f5f"
           }
          },
          "ternary": {
           "aaxis": {
            "gridcolor": "white",
            "linecolor": "white",
            "ticks": ""
           },
           "baxis": {
            "gridcolor": "white",
            "linecolor": "white",
            "ticks": ""
           },
           "bgcolor": "#E5ECF6",
           "caxis": {
            "gridcolor": "white",
            "linecolor": "white",
            "ticks": ""
           }
          },
          "title": {
           "x": 0.05
          },
          "xaxis": {
           "automargin": true,
           "gridcolor": "white",
           "linecolor": "white",
           "ticks": "",
           "title": {
            "standoff": 15
           },
           "zerolinecolor": "white",
           "zerolinewidth": 2
          },
          "yaxis": {
           "automargin": true,
           "gridcolor": "white",
           "linecolor": "white",
           "ticks": "",
           "title": {
            "standoff": 15
           },
           "zerolinecolor": "white",
           "zerolinewidth": 2
          }
         }
        },
        "title": {
         "text": "Box Plot Styling Outliers"
        }
       }
      }
     },
     "metadata": {},
     "output_type": "display_data"
    }
   ],
   "source": [
    "import plotly.graph_objects as go\n",
    "\n",
    "fig = go.Figure()\n",
    "fig.add_trace(go.Box(\n",
    "    y=[0.75, 5.25, 5.5, 6, 6.2, 6.6, 6.80, 7.0, 7.2, 7.5, 7.5, 7.75, 8.15,\n",
    "       8.15, 8.65, 8.93, 9.2, 9.5, 10, 10.25, 11.5, 12, 16, 20.90, 22.3, 23.25],\n",
    "    name=\"All Points\",\n",
    "    jitter=0.3,\n",
    "    pointpos=-1.8,\n",
    "    boxpoints='all', # represent all points\n",
    "    marker_color='rgb(7,40,89)',\n",
    "    line_color='rgb(7,40,89)'\n",
    "))\n",
    "\n",
    "fig.add_trace(go.Box(\n",
    "    y=[0.75, 5.25, 5.5, 6, 6.2, 6.6, 6.80, 7.0, 7.2, 7.5, 7.5, 7.75, 8.15,\n",
    "        8.15, 8.65, 8.93, 9.2, 9.5, 10, 10.25, 11.5, 12, 16, 20.90, 22.3, 23.25],\n",
    "    name=\"Only Whiskers\",\n",
    "    boxpoints=False, # no data points\n",
    "    marker_color='rgb(9,56,125)',\n",
    "    line_color='rgb(9,56,125)'\n",
    "))\n",
    "\n",
    "fig.add_trace(go.Box(\n",
    "    y=[0.75, 5.25, 5.5, 6, 6.2, 6.6, 6.80, 7.0, 7.2, 7.5, 7.5, 7.75, 8.15,\n",
    "        8.15, 8.65, 8.93, 9.2, 9.5, 10, 10.25, 11.5, 12, 16, 20.90, 22.3, 23.25],\n",
    "    name=\"Suspected Outliers\",\n",
    "    boxpoints='suspectedoutliers', # only suspected outliers\n",
    "    marker=dict(\n",
    "        color='rgb(8,81,156)',\n",
    "        outliercolor='rgba(219, 64, 82, 0.6)',\n",
    "        line=dict(\n",
    "            outliercolor='rgba(219, 64, 82, 0.6)',\n",
    "            outlierwidth=2)),\n",
    "    line_color='rgb(8,81,156)'\n",
    "))\n",
    "\n",
    "fig.add_trace(go.Box(\n",
    "    y=[0.75, 5.25, 5.5, 6, 6.2, 6.6, 6.80, 7.0, 7.2, 7.5, 7.5, 7.75, 8.15,\n",
    "        8.15, 8.65, 8.93, 9.2, 9.5, 10, 10.25, 11.5, 12, 16, 20.90, 22.3, 23.25],\n",
    "    name=\"Whiskers and Outliers\",\n",
    "    boxpoints='outliers', # only outliers\n",
    "    marker_color='rgb(107,174,214)',\n",
    "    line_color='rgb(107,174,214)'\n",
    "))\n",
    "\n",
    "\n",
    "fig.update_layout(title_text=\"Box Plot Styling Outliers\")\n",
    "fig.show()"
   ]
  },
  {
   "cell_type": "code",
   "execution_count": null,
   "id": "da6011ec",
   "metadata": {},
   "outputs": [],
   "source": [
    "fig.write_image(\"figure.png\")"
   ]
  }
 ],
 "metadata": {
  "kernelspec": {
   "display_name": "Python 3",
   "language": "python",
   "name": "python3"
  },
  "language_info": {
   "codemirror_mode": {
    "name": "ipython",
    "version": 3
   },
   "file_extension": ".py",
   "mimetype": "text/x-python",
   "name": "python",
   "nbconvert_exporter": "python",
   "pygments_lexer": "ipython3",
   "version": "3.12.10"
  }
 },
 "nbformat": 4,
 "nbformat_minor": 5
}
