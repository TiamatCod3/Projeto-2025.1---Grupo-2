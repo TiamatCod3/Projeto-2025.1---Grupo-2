version https://git-lfs.github.com/spec/v1
oid sha256:25355bbdeeb9da2f16f5f826e8f651bb9bd14603feb62e3c2c659db7ed7765dc
size 31800
