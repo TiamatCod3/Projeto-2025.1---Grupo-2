version https://git-lfs.github.com/spec/v1
oid sha256:0b5d8d4a492be886b6e26feba4dbbef5a69799e53e8d619c544a18517c7b730c
size 28146
